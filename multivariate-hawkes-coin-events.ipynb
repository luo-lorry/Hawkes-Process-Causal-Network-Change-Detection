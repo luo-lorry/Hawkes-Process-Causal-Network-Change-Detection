{
 "cells": [
  {
   "cell_type": "code",
   "execution_count": 1,
   "metadata": {
    "_cell_guid": "b1076dfc-b9ad-4769-8c92-a6c4dae69d19",
    "_uuid": "8f2839f25d086af736a60e9eeb907d3b93b6e0e5",
    "collapsed": true,
    "execution": {
     "iopub.execute_input": "2023-04-15T14:39:09.387683Z",
     "iopub.status.busy": "2023-04-15T14:39:09.387032Z",
     "iopub.status.idle": "2023-04-15T14:39:25.999511Z",
     "shell.execute_reply": "2023-04-15T14:39:25.998315Z",
     "shell.execute_reply.started": "2023-04-15T14:39:09.387615Z"
    }
   },
   "outputs": [
    {
     "name": "stdout",
     "output_type": "stream",
     "text": [
      "Collecting tick\n",
      "  Downloading tick-0.7.0.1-cp37-cp37m-manylinux2014_x86_64.whl (10.8 MB)\n",
      "\u001b[2K     \u001b[90m━━━━━━━━━━━━━━━━━━━━━━━━━━━━━━━━━━━━━━━━\u001b[0m \u001b[32m10.8/10.8 MB\u001b[0m \u001b[31m63.9 MB/s\u001b[0m eta \u001b[36m0:00:00\u001b[0m00:01\u001b[0m0:01\u001b[0m\n",
      "\u001b[?25hRequirement already satisfied: scikit-learn in /opt/conda/lib/python3.7/site-packages (from tick) (1.0.2)\n",
      "Collecting numpydoc\n",
      "  Downloading numpydoc-1.5.0-py3-none-any.whl (52 kB)\n",
      "\u001b[2K     \u001b[90m━━━━━━━━━━━━━━━━━━━━━━━━━━━━━━━━━━━━━━━━\u001b[0m \u001b[32m52.4/52.4 kB\u001b[0m \u001b[31m5.3 MB/s\u001b[0m eta \u001b[36m0:00:00\u001b[0m\n",
      "\u001b[?25hRequirement already satisfied: dill in /opt/conda/lib/python3.7/site-packages (from tick) (0.3.6)\n",
      "Requirement already satisfied: pandas in /opt/conda/lib/python3.7/site-packages (from tick) (1.3.5)\n",
      "Collecting sphinx\n",
      "  Downloading sphinx-5.3.0-py3-none-any.whl (3.2 MB)\n",
      "\u001b[2K     \u001b[90m━━━━━━━━━━━━━━━━━━━━━━━━━━━━━━━━━━━━━━━━\u001b[0m \u001b[32m3.2/3.2 MB\u001b[0m \u001b[31m73.1 MB/s\u001b[0m eta \u001b[36m0:00:00\u001b[0m:00:01\u001b[0m\n",
      "\u001b[?25hRequirement already satisfied: scipy in /opt/conda/lib/python3.7/site-packages (from tick) (1.7.3)\n",
      "Requirement already satisfied: numpy in /opt/conda/lib/python3.7/site-packages (from tick) (1.21.6)\n",
      "Requirement already satisfied: matplotlib in /opt/conda/lib/python3.7/site-packages (from tick) (3.5.3)\n",
      "Requirement already satisfied: packaging>=20.0 in /opt/conda/lib/python3.7/site-packages (from matplotlib->tick) (23.0)\n",
      "Requirement already satisfied: pillow>=6.2.0 in /opt/conda/lib/python3.7/site-packages (from matplotlib->tick) (9.4.0)\n",
      "Requirement already satisfied: python-dateutil>=2.7 in /opt/conda/lib/python3.7/site-packages (from matplotlib->tick) (2.8.2)\n",
      "Requirement already satisfied: fonttools>=4.22.0 in /opt/conda/lib/python3.7/site-packages (from matplotlib->tick) (4.38.0)\n",
      "Requirement already satisfied: kiwisolver>=1.0.1 in /opt/conda/lib/python3.7/site-packages (from matplotlib->tick) (1.4.4)\n",
      "Requirement already satisfied: cycler>=0.10 in /opt/conda/lib/python3.7/site-packages (from matplotlib->tick) (0.11.0)\n",
      "Requirement already satisfied: pyparsing>=2.2.1 in /opt/conda/lib/python3.7/site-packages (from matplotlib->tick) (3.0.9)\n",
      "Requirement already satisfied: Jinja2>=2.10 in /opt/conda/lib/python3.7/site-packages (from numpydoc->tick) (3.1.2)\n",
      "Collecting sphinxcontrib-devhelp\n",
      "  Downloading sphinxcontrib_devhelp-1.0.2-py2.py3-none-any.whl (84 kB)\n",
      "\u001b[2K     \u001b[90m━━━━━━━━━━━━━━━━━━━━━━━━━━━━━━━━━━━━━━━━\u001b[0m \u001b[32m84.7/84.7 kB\u001b[0m \u001b[31m7.6 MB/s\u001b[0m eta \u001b[36m0:00:00\u001b[0m\n",
      "\u001b[?25hRequirement already satisfied: babel>=2.9 in /opt/conda/lib/python3.7/site-packages (from sphinx->tick) (2.11.0)\n",
      "Requirement already satisfied: requests>=2.5.0 in /opt/conda/lib/python3.7/site-packages (from sphinx->tick) (2.28.2)\n",
      "Requirement already satisfied: snowballstemmer>=2.0 in /opt/conda/lib/python3.7/site-packages (from sphinx->tick) (2.2.0)\n",
      "Collecting alabaster<0.8,>=0.7\n",
      "  Downloading alabaster-0.7.13-py3-none-any.whl (13 kB)\n",
      "Collecting sphinxcontrib-qthelp\n",
      "  Downloading sphinxcontrib_qthelp-1.0.3-py2.py3-none-any.whl (90 kB)\n",
      "\u001b[2K     \u001b[90m━━━━━━━━━━━━━━━━━━━━━━━━━━━━━━━━━━━━━━━━\u001b[0m \u001b[32m90.6/90.6 kB\u001b[0m \u001b[31m8.5 MB/s\u001b[0m eta \u001b[36m0:00:00\u001b[0m\n",
      "\u001b[?25hRequirement already satisfied: docutils<0.20,>=0.14 in /opt/conda/lib/python3.7/site-packages (from sphinx->tick) (0.19)\n",
      "Requirement already satisfied: importlib-metadata>=4.8 in /opt/conda/lib/python3.7/site-packages (from sphinx->tick) (4.11.4)\n",
      "Collecting imagesize>=1.3\n",
      "  Downloading imagesize-1.4.1-py2.py3-none-any.whl (8.8 kB)\n",
      "Collecting sphinxcontrib-serializinghtml>=1.1.5\n",
      "  Downloading sphinxcontrib_serializinghtml-1.1.5-py2.py3-none-any.whl (94 kB)\n",
      "\u001b[2K     \u001b[90m━━━━━━━━━━━━━━━━━━━━━━━━━━━━━━━━━━━━━━━━\u001b[0m \u001b[32m94.0/94.0 kB\u001b[0m \u001b[31m10.9 MB/s\u001b[0m eta \u001b[36m0:00:00\u001b[0m\n",
      "\u001b[?25hCollecting sphinxcontrib-applehelp\n",
      "  Downloading sphinxcontrib_applehelp-1.0.2-py2.py3-none-any.whl (121 kB)\n",
      "\u001b[2K     \u001b[90m━━━━━━━━━━━━━━━━━━━━━━━━━━━━━━━━━━━━━━\u001b[0m \u001b[32m121.2/121.2 kB\u001b[0m \u001b[31m12.7 MB/s\u001b[0m eta \u001b[36m0:00:00\u001b[0m\n",
      "\u001b[?25hCollecting sphinxcontrib-jsmath\n",
      "  Downloading sphinxcontrib_jsmath-1.0.1-py2.py3-none-any.whl (5.1 kB)\n",
      "Collecting sphinxcontrib-htmlhelp>=2.0.0\n",
      "  Downloading sphinxcontrib_htmlhelp-2.0.0-py2.py3-none-any.whl (100 kB)\n",
      "\u001b[2K     \u001b[90m━━━━━━━━━━━━━━━━━━━━━━━━━━━━━━━━━━━━━━\u001b[0m \u001b[32m100.5/100.5 kB\u001b[0m \u001b[31m10.4 MB/s\u001b[0m eta \u001b[36m0:00:00\u001b[0m\n",
      "\u001b[?25hRequirement already satisfied: Pygments>=2.12 in /opt/conda/lib/python3.7/site-packages (from sphinx->tick) (2.14.0)\n",
      "Requirement already satisfied: pytz>=2017.3 in /opt/conda/lib/python3.7/site-packages (from pandas->tick) (2022.7.1)\n",
      "Requirement already satisfied: joblib>=0.11 in /opt/conda/lib/python3.7/site-packages (from scikit-learn->tick) (1.2.0)\n",
      "Requirement already satisfied: threadpoolctl>=2.0.0 in /opt/conda/lib/python3.7/site-packages (from scikit-learn->tick) (3.1.0)\n",
      "Requirement already satisfied: zipp>=0.5 in /opt/conda/lib/python3.7/site-packages (from importlib-metadata>=4.8->sphinx->tick) (3.11.0)\n",
      "Requirement already satisfied: typing-extensions>=3.6.4 in /opt/conda/lib/python3.7/site-packages (from importlib-metadata>=4.8->sphinx->tick) (4.4.0)\n",
      "Requirement already satisfied: MarkupSafe>=2.0 in /opt/conda/lib/python3.7/site-packages (from Jinja2>=2.10->numpydoc->tick) (2.1.1)\n",
      "Requirement already satisfied: six>=1.5 in /opt/conda/lib/python3.7/site-packages (from python-dateutil>=2.7->matplotlib->tick) (1.16.0)\n",
      "Requirement already satisfied: charset-normalizer<4,>=2 in /opt/conda/lib/python3.7/site-packages (from requests>=2.5.0->sphinx->tick) (2.1.1)\n",
      "Requirement already satisfied: certifi>=2017.4.17 in /opt/conda/lib/python3.7/site-packages (from requests>=2.5.0->sphinx->tick) (2022.12.7)\n",
      "Requirement already satisfied: urllib3<1.27,>=1.21.1 in /opt/conda/lib/python3.7/site-packages (from requests>=2.5.0->sphinx->tick) (1.26.14)\n",
      "Requirement already satisfied: idna<4,>=2.5 in /opt/conda/lib/python3.7/site-packages (from requests>=2.5.0->sphinx->tick) (3.4)\n",
      "Installing collected packages: sphinxcontrib-serializinghtml, sphinxcontrib-qthelp, sphinxcontrib-jsmath, sphinxcontrib-htmlhelp, sphinxcontrib-devhelp, sphinxcontrib-applehelp, imagesize, alabaster, sphinx, numpydoc, tick\n",
      "Successfully installed alabaster-0.7.13 imagesize-1.4.1 numpydoc-1.5.0 sphinx-5.3.0 sphinxcontrib-applehelp-1.0.2 sphinxcontrib-devhelp-1.0.2 sphinxcontrib-htmlhelp-2.0.0 sphinxcontrib-jsmath-1.0.1 sphinxcontrib-qthelp-1.0.3 sphinxcontrib-serializinghtml-1.1.5 tick-0.7.0.1\n",
      "\u001b[33mWARNING: Running pip as the 'root' user can result in broken permissions and conflicting behaviour with the system package manager. It is recommended to use a virtual environment instead: https://pip.pypa.io/warnings/venv\u001b[0m\u001b[33m\n",
      "\u001b[0m"
     ]
    }
   ],
   "source": [
    "!pip install tick"
   ]
  },
  {
   "cell_type": "code",
   "execution_count": 2,
   "metadata": {
    "collapsed": true,
    "execution": {
     "iopub.execute_input": "2023-04-15T14:39:26.004591Z",
     "iopub.status.busy": "2023-04-15T14:39:26.004229Z",
     "iopub.status.idle": "2023-04-15T14:40:16.830624Z",
     "shell.execute_reply": "2023-04-15T14:40:16.829008Z",
     "shell.execute_reply.started": "2023-04-15T14:39:26.004553Z"
    }
   },
   "outputs": [
    {
     "name": "stdout",
     "output_type": "stream",
     "text": [
      "Collecting tensorflow==1.14.0\n",
      "  Downloading tensorflow-1.14.0-cp37-cp37m-manylinux1_x86_64.whl (109.3 MB)\n",
      "\u001b[2K     \u001b[90m━━━━━━━━━━━━━━━━━━━━━━━━━━━━━━━━━━━━━━\u001b[0m \u001b[32m109.3/109.3 MB\u001b[0m \u001b[31m10.0 MB/s\u001b[0m eta \u001b[36m0:00:00\u001b[0m00:01\u001b[0m00:01\u001b[0m\n",
      "\u001b[?25hRequirement already satisfied: wheel>=0.26 in /opt/conda/lib/python3.7/site-packages (from tensorflow==1.14.0) (0.38.4)\n",
      "Collecting keras-applications>=1.0.6\n",
      "  Downloading Keras_Applications-1.0.8-py3-none-any.whl (50 kB)\n",
      "\u001b[2K     \u001b[90m━━━━━━━━━━━━━━━━━━━━━━━━━━━━━━━━━━━━━━━━\u001b[0m \u001b[32m50.7/50.7 kB\u001b[0m \u001b[31m5.1 MB/s\u001b[0m eta \u001b[36m0:00:00\u001b[0m\n",
      "\u001b[?25hCollecting tensorflow-estimator<1.15.0rc0,>=1.14.0rc0\n",
      "  Downloading tensorflow_estimator-1.14.0-py2.py3-none-any.whl (488 kB)\n",
      "\u001b[2K     \u001b[90m━━━━━━━━━━━━━━━━━━━━━━━━━━━━━━━━━━━━━━\u001b[0m \u001b[32m488.5/488.5 kB\u001b[0m \u001b[31m38.7 MB/s\u001b[0m eta \u001b[36m0:00:00\u001b[0m\n",
      "\u001b[?25hRequirement already satisfied: protobuf>=3.6.1 in /opt/conda/lib/python3.7/site-packages (from tensorflow==1.14.0) (3.20.3)\n",
      "Requirement already satisfied: termcolor>=1.1.0 in /opt/conda/lib/python3.7/site-packages (from tensorflow==1.14.0) (2.2.0)\n",
      "Collecting keras-preprocessing>=1.0.5\n",
      "  Downloading Keras_Preprocessing-1.1.2-py2.py3-none-any.whl (42 kB)\n",
      "\u001b[2K     \u001b[90m━━━━━━━━━━━━━━━━━━━━━━━━━━━━━━━━━━━━━━━━\u001b[0m \u001b[32m42.6/42.6 kB\u001b[0m \u001b[31m3.8 MB/s\u001b[0m eta \u001b[36m0:00:00\u001b[0m\n",
      "\u001b[?25hRequirement already satisfied: numpy<2.0,>=1.14.5 in /opt/conda/lib/python3.7/site-packages (from tensorflow==1.14.0) (1.21.6)\n",
      "Requirement already satisfied: six>=1.10.0 in /opt/conda/lib/python3.7/site-packages (from tensorflow==1.14.0) (1.16.0)\n",
      "Requirement already satisfied: absl-py>=0.7.0 in /opt/conda/lib/python3.7/site-packages (from tensorflow==1.14.0) (1.4.0)\n",
      "Requirement already satisfied: google-pasta>=0.1.6 in /opt/conda/lib/python3.7/site-packages (from tensorflow==1.14.0) (0.2.0)\n",
      "Requirement already satisfied: gast>=0.2.0 in /opt/conda/lib/python3.7/site-packages (from tensorflow==1.14.0) (0.4.0)\n",
      "Collecting astor>=0.6.0\n",
      "  Downloading astor-0.8.1-py2.py3-none-any.whl (27 kB)\n",
      "Collecting tensorboard<1.15.0,>=1.14.0\n",
      "  Downloading tensorboard-1.14.0-py3-none-any.whl (3.1 MB)\n",
      "\u001b[2K     \u001b[90m━━━━━━━━━━━━━━━━━━━━━━━━━━━━━━━━━━━━━━━━\u001b[0m \u001b[32m3.1/3.1 MB\u001b[0m \u001b[31m68.5 MB/s\u001b[0m eta \u001b[36m0:00:00\u001b[0m:00:01\u001b[0m\n",
      "\u001b[?25hRequirement already satisfied: wrapt>=1.11.1 in /opt/conda/lib/python3.7/site-packages (from tensorflow==1.14.0) (1.14.1)\n",
      "Requirement already satisfied: grpcio>=1.8.6 in /opt/conda/lib/python3.7/site-packages (from tensorflow==1.14.0) (1.51.1)\n",
      "Requirement already satisfied: h5py in /opt/conda/lib/python3.7/site-packages (from keras-applications>=1.0.6->tensorflow==1.14.0) (3.8.0)\n",
      "Requirement already satisfied: markdown>=2.6.8 in /opt/conda/lib/python3.7/site-packages (from tensorboard<1.15.0,>=1.14.0->tensorflow==1.14.0) (3.4.1)\n",
      "Requirement already satisfied: setuptools>=41.0.0 in /opt/conda/lib/python3.7/site-packages (from tensorboard<1.15.0,>=1.14.0->tensorflow==1.14.0) (59.8.0)\n",
      "Requirement already satisfied: werkzeug>=0.11.15 in /opt/conda/lib/python3.7/site-packages (from tensorboard<1.15.0,>=1.14.0->tensorflow==1.14.0) (2.2.3)\n",
      "Requirement already satisfied: importlib-metadata>=4.4 in /opt/conda/lib/python3.7/site-packages (from markdown>=2.6.8->tensorboard<1.15.0,>=1.14.0->tensorflow==1.14.0) (4.11.4)\n",
      "Requirement already satisfied: MarkupSafe>=2.1.1 in /opt/conda/lib/python3.7/site-packages (from werkzeug>=0.11.15->tensorboard<1.15.0,>=1.14.0->tensorflow==1.14.0) (2.1.1)\n",
      "Requirement already satisfied: zipp>=0.5 in /opt/conda/lib/python3.7/site-packages (from importlib-metadata>=4.4->markdown>=2.6.8->tensorboard<1.15.0,>=1.14.0->tensorflow==1.14.0) (3.11.0)\n",
      "Requirement already satisfied: typing-extensions>=3.6.4 in /opt/conda/lib/python3.7/site-packages (from importlib-metadata>=4.4->markdown>=2.6.8->tensorboard<1.15.0,>=1.14.0->tensorflow==1.14.0) (4.4.0)\n",
      "Installing collected packages: tensorflow-estimator, keras-preprocessing, astor, keras-applications, tensorboard, tensorflow\n",
      "  Attempting uninstall: tensorflow-estimator\n",
      "    Found existing installation: tensorflow-estimator 2.11.0\n",
      "    Uninstalling tensorflow-estimator-2.11.0:\n",
      "      Successfully uninstalled tensorflow-estimator-2.11.0\n",
      "  Attempting uninstall: tensorboard\n",
      "    Found existing installation: tensorboard 2.11.2\n",
      "    Uninstalling tensorboard-2.11.2:\n",
      "      Successfully uninstalled tensorboard-2.11.2\n",
      "  Attempting uninstall: tensorflow\n",
      "    Found existing installation: tensorflow 2.11.0\n",
      "    Uninstalling tensorflow-2.11.0:\n",
      "      Successfully uninstalled tensorflow-2.11.0\n",
      "\u001b[31mERROR: pip's dependency resolver does not currently take into account all the packages that are installed. This behaviour is the source of the following dependency conflicts.\n",
      "tfx-bsl 1.12.0 requires google-api-python-client<2,>=1.7.11, but you have google-api-python-client 2.83.0 which is incompatible.\n",
      "tfx-bsl 1.12.0 requires tensorflow<3,>=2.11, but you have tensorflow 1.14.0 which is incompatible.\n",
      "tensorflowjs 3.15.0 requires tensorflow<3,>=2.1.0, but you have tensorflow 1.14.0 which is incompatible.\n",
      "tensorflow-transform 1.12.0 requires tensorflow<2.12,>=2.11.0, but you have tensorflow 1.14.0 which is incompatible.\n",
      "tensorflow-text 2.11.0 requires tensorflow<2.12,>=2.11.0; platform_machine != \"arm64\" or platform_system != \"Darwin\", but you have tensorflow 1.14.0 which is incompatible.\n",
      "tensorflow-serving-api 2.11.0 requires protobuf<3.20,>=3.9.2, but you have protobuf 3.20.3 which is incompatible.\n",
      "tensorflow-serving-api 2.11.0 requires tensorflow<3,>=2.11.0, but you have tensorflow 1.14.0 which is incompatible.\n",
      "tensorflow-decision-forests 1.2.0 requires tensorflow~=2.11.0, but you have tensorflow 1.14.0 which is incompatible.\n",
      "tensorflow-cloud 0.1.16 requires tensorboard>=2.3.0, but you have tensorboard 1.14.0 which is incompatible.\n",
      "tensorflow-cloud 0.1.16 requires tensorflow<3.0,>=1.15.0, but you have tensorflow 1.14.0 which is incompatible.\n",
      "explainable-ai-sdk 1.3.3 requires tensorflow>=1.15.0, but you have tensorflow 1.14.0 which is incompatible.\u001b[0m\u001b[31m\n",
      "\u001b[0mSuccessfully installed astor-0.8.1 keras-applications-1.0.8 keras-preprocessing-1.1.2 tensorboard-1.14.0 tensorflow-1.14.0 tensorflow-estimator-1.14.0\n",
      "\u001b[33mWARNING: Running pip as the 'root' user can result in broken permissions and conflicting behaviour with the system package manager. It is recommended to use a virtual environment instead: https://pip.pypa.io/warnings/venv\u001b[0m\u001b[33m\n",
      "\u001b[0m"
     ]
    }
   ],
   "source": [
    "!pip install tensorflow==1.14.0"
   ]
  },
  {
   "cell_type": "code",
   "execution_count": 3,
   "metadata": {
    "execution": {
     "iopub.execute_input": "2023-04-15T14:40:16.834930Z",
     "iopub.status.busy": "2023-04-15T14:40:16.834449Z",
     "iopub.status.idle": "2023-04-15T14:40:16.907999Z",
     "shell.execute_reply": "2023-04-15T14:40:16.906690Z",
     "shell.execute_reply.started": "2023-04-15T14:40:16.834886Z"
    }
   },
   "outputs": [],
   "source": [
    "import numpy as np\n",
    "import pandas as pd\n",
    "import matplotlib.pyplot as plt\n",
    "from scipy.sparse.linalg import svds"
   ]
  },
  {
   "cell_type": "code",
   "execution_count": 15,
   "metadata": {},
   "outputs": [],
   "source": [
    "%matplotlib inline"
   ]
  },
  {
   "cell_type": "code",
   "execution_count": 5,
   "metadata": {
    "execution": {
     "iopub.execute_input": "2023-04-15T14:40:19.251858Z",
     "iopub.status.busy": "2023-04-15T14:40:19.251013Z",
     "iopub.status.idle": "2023-04-15T14:40:19.947078Z",
     "shell.execute_reply": "2023-04-15T14:40:19.945701Z",
     "shell.execute_reply.started": "2023-04-15T14:40:19.251816Z"
    }
   },
   "outputs": [],
   "source": [
    "from tick.plot import plot_hawkes_kernel_norms"
   ]
  },
  {
   "cell_type": "code",
   "execution_count": 6,
   "metadata": {
    "collapsed": true,
    "execution": {
     "iopub.execute_input": "2023-04-15T14:40:19.949063Z",
     "iopub.status.busy": "2023-04-15T14:40:19.948437Z",
     "iopub.status.idle": "2023-04-15T14:40:23.649587Z",
     "shell.execute_reply": "2023-04-15T14:40:23.647683Z",
     "shell.execute_reply.started": "2023-04-15T14:40:19.949017Z"
    }
   },
   "outputs": [
    {
     "name": "stderr",
     "output_type": "stream",
     "text": [
      "/opt/conda/lib/python3.7/site-packages/tensorflow/python/framework/dtypes.py:516: FutureWarning: Passing (type, 1) or '1type' as a synonym of type is deprecated; in a future version of numpy, it will be understood as (type, (1,)) / '(1,)type'.\n",
      "  _np_qint8 = np.dtype([(\"qint8\", np.int8, 1)])\n",
      "/opt/conda/lib/python3.7/site-packages/tensorflow/python/framework/dtypes.py:517: FutureWarning: Passing (type, 1) or '1type' as a synonym of type is deprecated; in a future version of numpy, it will be understood as (type, (1,)) / '(1,)type'.\n",
      "  _np_quint8 = np.dtype([(\"quint8\", np.uint8, 1)])\n",
      "/opt/conda/lib/python3.7/site-packages/tensorflow/python/framework/dtypes.py:518: FutureWarning: Passing (type, 1) or '1type' as a synonym of type is deprecated; in a future version of numpy, it will be understood as (type, (1,)) / '(1,)type'.\n",
      "  _np_qint16 = np.dtype([(\"qint16\", np.int16, 1)])\n",
      "/opt/conda/lib/python3.7/site-packages/tensorflow/python/framework/dtypes.py:519: FutureWarning: Passing (type, 1) or '1type' as a synonym of type is deprecated; in a future version of numpy, it will be understood as (type, (1,)) / '(1,)type'.\n",
      "  _np_quint16 = np.dtype([(\"quint16\", np.uint16, 1)])\n",
      "/opt/conda/lib/python3.7/site-packages/tensorflow/python/framework/dtypes.py:520: FutureWarning: Passing (type, 1) or '1type' as a synonym of type is deprecated; in a future version of numpy, it will be understood as (type, (1,)) / '(1,)type'.\n",
      "  _np_qint32 = np.dtype([(\"qint32\", np.int32, 1)])\n",
      "/opt/conda/lib/python3.7/site-packages/tensorflow/python/framework/dtypes.py:525: FutureWarning: Passing (type, 1) or '1type' as a synonym of type is deprecated; in a future version of numpy, it will be understood as (type, (1,)) / '(1,)type'.\n",
      "  np_resource = np.dtype([(\"resource\", np.ubyte, 1)])\n",
      "/opt/conda/lib/python3.7/site-packages/tensorboard/compat/tensorflow_stub/dtypes.py:541: FutureWarning: Passing (type, 1) or '1type' as a synonym of type is deprecated; in a future version of numpy, it will be understood as (type, (1,)) / '(1,)type'.\n",
      "  _np_qint8 = np.dtype([(\"qint8\", np.int8, 1)])\n",
      "/opt/conda/lib/python3.7/site-packages/tensorboard/compat/tensorflow_stub/dtypes.py:542: FutureWarning: Passing (type, 1) or '1type' as a synonym of type is deprecated; in a future version of numpy, it will be understood as (type, (1,)) / '(1,)type'.\n",
      "  _np_quint8 = np.dtype([(\"quint8\", np.uint8, 1)])\n",
      "/opt/conda/lib/python3.7/site-packages/tensorboard/compat/tensorflow_stub/dtypes.py:543: FutureWarning: Passing (type, 1) or '1type' as a synonym of type is deprecated; in a future version of numpy, it will be understood as (type, (1,)) / '(1,)type'.\n",
      "  _np_qint16 = np.dtype([(\"qint16\", np.int16, 1)])\n",
      "/opt/conda/lib/python3.7/site-packages/tensorboard/compat/tensorflow_stub/dtypes.py:544: FutureWarning: Passing (type, 1) or '1type' as a synonym of type is deprecated; in a future version of numpy, it will be understood as (type, (1,)) / '(1,)type'.\n",
      "  _np_quint16 = np.dtype([(\"quint16\", np.uint16, 1)])\n",
      "/opt/conda/lib/python3.7/site-packages/tensorboard/compat/tensorflow_stub/dtypes.py:545: FutureWarning: Passing (type, 1) or '1type' as a synonym of type is deprecated; in a future version of numpy, it will be understood as (type, (1,)) / '(1,)type'.\n",
      "  _np_qint32 = np.dtype([(\"qint32\", np.int32, 1)])\n",
      "/opt/conda/lib/python3.7/site-packages/tensorboard/compat/tensorflow_stub/dtypes.py:550: FutureWarning: Passing (type, 1) or '1type' as a synonym of type is deprecated; in a future version of numpy, it will be understood as (type, (1,)) / '(1,)type'.\n",
      "  np_resource = np.dtype([(\"resource\", np.ubyte, 1)])\n"
     ]
    }
   ],
   "source": [
    "from tick.hawkes import HawkesCumulantMatching"
   ]
  },
  {
   "cell_type": "code",
   "execution_count": 7,
   "metadata": {
    "execution": {
     "iopub.execute_input": "2023-04-15T14:40:23.653305Z",
     "iopub.status.busy": "2023-04-15T14:40:23.652666Z",
     "iopub.status.idle": "2023-04-15T14:40:23.676872Z",
     "shell.execute_reply": "2023-04-15T14:40:23.675568Z",
     "shell.execute_reply.started": "2023-04-15T14:40:23.653238Z"
    }
   },
   "outputs": [],
   "source": [
    "class ChangePointDetector:\n",
    "    def __init__(self, A_list, c=2, epsilon=1e-2, B=100, m=100, alpha=0.05):\n",
    "        self.logG_seq = logG_sequence(A_list, epsilon=epsilon)\n",
    "        print(f\"Finished computing the nearest SPDs of the input sequence of {len(A_list)} graphs\")\n",
    "        self.c = c\n",
    "        self.epsilon = epsilon\n",
    "        self.B = B\n",
    "        self.m = m\n",
    "        self.alpha = alpha\n",
    "        self.cp_detected = []\n",
    "        self.test_stats = []\n",
    "    \n",
    "    def frechet_stats_test(self, logG_seq):\n",
    "        T = logG_seq.shape[0]\n",
    "        if T <= 2*self.c + 2: return False, -1, -1\n",
    "        print(f\"Testing a sequence of {T} graphs\")\n",
    "        \n",
    "        t1, t2 = since_until(T, self.c)\n",
    "        \n",
    "        test_stats_seq, since = test_statistics_online_two_pass(logG_seq, self.c)\n",
    "        reference_stats = np.zeros(self.B, dtype=float)\n",
    "        for b in range(self.B):\n",
    "            reference_stats[b] = max(test_statistics_online_two_pass(logG_seq[np.random.choice(np.arange(T), size=self.m, replace=True)], self.c)[0]) #max(test_statistics_online_two_pass(logG_seq[np.random.choice(np.arange(T), size=T, replace=True)], self.c)[0])\n",
    "        reference_stats.sort()\n",
    "        q_one_minus_alpha = reference_stats[-int(self.alpha*self.B)]\n",
    "\n",
    "        if max(test_stats_seq) > q_one_minus_alpha:\n",
    "            return True, test_stats_seq.argmax() + since, (test_stats_seq, t1)\n",
    "        else:\n",
    "            return False, -1, -1\n",
    "        \n",
    "    def binary_segmentation(self, logG_seq=None, since=0):\n",
    "        if logG_seq is None:\n",
    "            logG_seq = self.logG_seq\n",
    "        print(f\"sequence: {since}, {since+logG_seq.shape[0]}\")\n",
    "        exist, loc, test_stats_seq = self.frechet_stats_test(logG_seq)\n",
    "        if exist:\n",
    "            self.cp_detected.append(loc+since)\n",
    "            seq, t1 = test_stats_seq\n",
    "            self.test_stats.append([seq, since+t1, since+t1+seq.shape[0]])\n",
    "            self.binary_segmentation(logG_seq[:loc], since=since)\n",
    "            self.binary_segmentation(logG_seq[loc:], since=loc+since)\n",
    "            \n",
    "    def restart(self):\n",
    "        self.cp_detected = []\n",
    "        self.test_stats = []"
   ]
  },
  {
   "cell_type": "code",
   "execution_count": 8,
   "metadata": {
    "execution": {
     "iopub.execute_input": "2023-04-15T14:40:23.679098Z",
     "iopub.status.busy": "2023-04-15T14:40:23.678737Z",
     "iopub.status.idle": "2023-04-15T14:40:23.711017Z",
     "shell.execute_reply": "2023-04-15T14:40:23.709693Z",
     "shell.execute_reply.started": "2023-04-15T14:40:23.679062Z"
    }
   },
   "outputs": [],
   "source": [
    "def signed_Laplacian(a):\n",
    "    return np.diag(np.abs(a).sum(axis=0) - np.diag(np.abs(a))) - (a - np.diag(np.diag(a)))\n",
    "\n",
    "\n",
    "def logG_sequence(adj_list, epsilon=1e-2):\n",
    "    num_nodes = adj_list[0].shape[0]\n",
    "    T = len(adj_list)\n",
    "    logG_seq = np.zeros((T, num_nodes, num_nodes))\n",
    "    for t, A_t in enumerate(adj_list):\n",
    "        L_t = signed_Laplacian(A_t)\n",
    "        vecs, vals, _ = svds(L_t, k=num_nodes-1, which=\"LM\")\n",
    "        vals[vals <= 0] = epsilon\n",
    "        logG_t = vecs @ np.diag(np.log(vals)) @ vecs.T\n",
    "        logG_seq[t] = logG_t\n",
    "        \n",
    "    return logG_seq"
   ]
  },
  {
   "cell_type": "code",
   "execution_count": 9,
   "metadata": {
    "execution": {
     "iopub.execute_input": "2023-04-15T14:40:23.713701Z",
     "iopub.status.busy": "2023-04-15T14:40:23.713118Z",
     "iopub.status.idle": "2023-04-15T14:40:23.736996Z",
     "shell.execute_reply": "2023-04-15T14:40:23.735636Z",
     "shell.execute_reply.started": "2023-04-15T14:40:23.713637Z"
    }
   },
   "outputs": [],
   "source": [
    "def since_until(T, c):\n",
    "    if 0 < c < 1:\n",
    "        since, until = int(np.ceil(c * T)), int(np.floor(T - c * T))\n",
    "    elif c >= 1:\n",
    "        since, until = int(c) + 1, T - int(c) - 1\n",
    "    else:\n",
    "        raise Exception(\"The interval parameter *c* is not valid.\")\n",
    "    \n",
    "    return since, until\n",
    "\n",
    "def dist(A, order=2):\n",
    "#     return ((A ** 2).sum(axis=(1, 2)) ** (order//2)).sum()\n",
    "    if order == 2:\n",
    "        return np.einsum('ijk,ijk->...', A, A)\n",
    "    else:\n",
    "        return (np.einsum('ijk,ijk->i', A, A)**(order//2)).sum()\n",
    "\n",
    "def test_statistics_online_two_pass(X_seq, c):\n",
    "    if isinstance(X_seq, list):\n",
    "        T = len(X_seq)\n",
    "    else:\n",
    "        T = X_seq.shape[0]\n",
    "\n",
    "    since, until = since_until(T, c)\n",
    "    \n",
    "    test_stats_seq = np.zeros(until - since, dtype=np.float64)\n",
    "    sample_mu = X_seq.mean(axis=0)\n",
    "    sample_V = (\n",
    "        dist(X_seq - sample_mu) / T\n",
    "    )\n",
    "    sigma2 = dist(X_seq - sample_mu, order=4) / T - sample_V**2\n",
    "    mu1_seq = np.zeros((until - since, *X_seq.shape[1:]), dtype=np.float64)\n",
    "    mu2_seq = np.zeros((until - since, *X_seq.shape[1:]), dtype=np.float64)\n",
    "    V1_seq = np.zeros(until - since, dtype=np.float64)\n",
    "    V2_seq = np.zeros(until - since, dtype=np.float64)\n",
    "\n",
    "    for idx, tau in enumerate(range(since, until)):\n",
    "        if idx == 0:\n",
    "            mu1 = X_seq[:tau].mean(axis=0)\n",
    "            V1 = dist(X_seq[:tau] - mu1) / tau\n",
    "        else:\n",
    "            mu1_new = mu1 + 1 / tau * (X_seq[tau - 1] - mu1)\n",
    "            V1 = V1 + (\n",
    "                -V1 + np.einsum(\"ij,ij\", X_seq[tau - 1] - mu1, X_seq[tau - 1] - mu1_new)\n",
    "            ) / (tau)\n",
    "            mu1 = mu1_new\n",
    "        mu1_seq[idx] = mu1\n",
    "        V1_seq[idx] = V1\n",
    "\n",
    "    for idx, tau in enumerate(reversed(range(since, until))):\n",
    "        if idx == 0:\n",
    "            mu2 = X_seq[tau:].mean(axis=0)\n",
    "            V2 = dist(X_seq[tau:] - mu2) / (T - tau)\n",
    "        else:\n",
    "            mu2_new = mu2 + 1 / (T - tau) * (X_seq[tau] - mu2)\n",
    "            V2 = V2 + (\n",
    "                -V2 + np.einsum(\"ij,ij\", X_seq[tau] - mu2, X_seq[tau] - mu2_new)\n",
    "            ) / (T - tau)\n",
    "            mu2 = mu2_new\n",
    "        mu2_seq[idx] = mu2\n",
    "        V2_seq[idx] = V2\n",
    "\n",
    "    mu2_seq = mu2_seq[::-1]\n",
    "    V2_seq = V2_seq[::-1]\n",
    "    mu_diff_seq = np.einsum(\"ijk,ijk->i\", mu2_seq - mu1_seq, mu2_seq - mu1_seq)\n",
    "    Vc1_seq = V1_seq + mu_diff_seq\n",
    "    Vc2_seq = V2_seq + mu_diff_seq\n",
    "    test_stats_seq = (\n",
    "        np.arange(since, until)\n",
    "        * (T - 1 - np.arange(since, until))\n",
    "        / T**2\n",
    "        / sigma2\n",
    "        * ((V1_seq - V2_seq) ** 2 + (Vc1_seq - V1_seq + Vc2_seq - V2_seq) ** 2)\n",
    "    )\n",
    "\n",
    "    return T * test_stats_seq, since"
   ]
  },
  {
   "cell_type": "code",
   "execution_count": 123,
   "metadata": {
    "execution": {
     "iopub.execute_input": "2023-04-15T16:08:35.688030Z",
     "iopub.status.busy": "2023-04-15T16:08:35.687614Z",
     "iopub.status.idle": "2023-04-15T16:08:35.757321Z",
     "shell.execute_reply": "2023-04-15T16:08:35.756256Z",
     "shell.execute_reply.started": "2023-04-15T16:08:35.687993Z"
    }
   },
   "outputs": [],
   "source": [
    "events = pd.read_pickle(\"coin-price-events/events_all.pkl\")"
   ]
  },
  {
   "cell_type": "code",
   "execution_count": 136,
   "metadata": {
    "execution": {
     "iopub.execute_input": "2023-04-15T16:17:34.614877Z",
     "iopub.status.busy": "2023-04-15T16:17:34.614378Z",
     "iopub.status.idle": "2023-04-15T16:19:37.136343Z",
     "shell.execute_reply": "2023-04-15T16:19:37.135016Z",
     "shell.execute_reply.started": "2023-04-15T16:17:34.614830Z"
    }
   },
   "outputs": [],
   "source": [
    "phi_list = []\n",
    "events_count_week = []\n",
    "for i in range(len(events.keys())-1):\n",
    "    week1 = list(events.keys())[i]\n",
    "    week2 = list(events.keys())[i+1]\n",
    "    events_week1 = events[week1]\n",
    "    events_week2 = events[week2]\n",
    "    events_week = [np.hstack([coin_week1, coin_week2 + 7*24*3600*1000000000]).astype(np.float64)/1000000000 for coin_week1, coin_week2 in zip(events_week1, events_week2)] # the timestamp value unit is ns\n",
    "    integration_support = 36000\n",
    "    nphc = HawkesCumulantMatching(integration_support, tol=1e-10)\n",
    "    nphc.fit([events_week])\n",
    "    phi = nphc.adjacency #nphc.solution - np.eye(nphc.solution.shape[0])\n",
    "    phi_list.append((phi + phi.T)/2)\n",
    "    events_count_week.append(np.sum([coin_week.shape[0] for coin_week in events_week]))\n",
    "#     break"
   ]
  },
  {
   "cell_type": "code",
   "execution_count": 160,
   "metadata": {
    "execution": {
     "iopub.execute_input": "2023-04-15T16:30:37.237309Z",
     "iopub.status.busy": "2023-04-15T16:30:37.236774Z",
     "iopub.status.idle": "2023-04-15T16:30:37.598223Z",
     "shell.execute_reply": "2023-04-15T16:30:37.597206Z",
     "shell.execute_reply.started": "2023-04-15T16:30:37.237260Z"
    }
   },
   "outputs": [
    {
     "data": {
      "text/plain": [
       "<matplotlib.colorbar.Colorbar at 0x7be3da74c250>"
      ]
     },
     "execution_count": 160,
     "metadata": {},
     "output_type": "execute_result"
    },
    {
     "data": {
      "image/png": "[encoded data removed]",
      "text/plain": [
       "<Figure size 640x480 with 2 Axes>"
      ]
     },
     "metadata": {},
     "output_type": "display_data"
    }
   ],
   "source": [
    "plt.imshow(nphc.solution)\n",
    "plt.colorbar()"
   ]
  },
  {
   "cell_type": "code",
   "execution_count": 159,
   "metadata": {
    "execution": {
     "iopub.execute_input": "2023-04-15T16:25:56.626302Z",
     "iopub.status.busy": "2023-04-15T16:25:56.625875Z",
     "iopub.status.idle": "2023-04-15T16:25:56.634067Z",
     "shell.execute_reply": "2023-04-15T16:25:56.632811Z",
     "shell.execute_reply.started": "2023-04-15T16:25:56.626263Z"
    }
   },
   "outputs": [
    {
     "data": {
      "text/plain": [
       "4512.1621621621625"
      ]
     },
     "execution_count": 159,
     "metadata": {},
     "output_type": "execute_result"
    }
   ],
   "source": [
    "np.diff(events_week[0]).mean()"
   ]
  },
  {
   "cell_type": "code",
   "execution_count": 157,
   "metadata": {
    "execution": {
     "iopub.execute_input": "2023-04-15T16:25:22.145167Z",
     "iopub.status.busy": "2023-04-15T16:25:22.144740Z",
     "iopub.status.idle": "2023-04-15T16:25:33.312920Z",
     "shell.execute_reply": "2023-04-15T16:25:33.311623Z",
     "shell.execute_reply.started": "2023-04-15T16:25:22.145129Z"
    }
   },
   "outputs": [
    {
     "name": "stdout",
     "output_type": "stream",
     "text": [
      "Finished computing the nearest SPDs of the input sequence of 56 graphs\n",
      "sequence: 0, 56\n",
      "Testing a sequence of 56 graphs\n",
      "sequence: 0, 19\n",
      "Testing a sequence of 19 graphs\n",
      "sequence: 0, 14\n",
      "Testing a sequence of 14 graphs\n",
      "sequence: 14, 19\n",
      "sequence: 19, 56\n",
      "Testing a sequence of 37 graphs\n",
      "sequence: 19, 46\n",
      "Testing a sequence of 27 graphs\n",
      "sequence: 19, 40\n",
      "Testing a sequence of 21 graphs\n",
      "sequence: 19, 33\n",
      "Testing a sequence of 14 graphs\n",
      "sequence: 33, 40\n",
      "Testing a sequence of 7 graphs\n",
      "sequence: 40, 46\n",
      "sequence: 46, 56\n",
      "Testing a sequence of 10 graphs\n",
      "Detected (Fréchet): [19, 14, 46, 40, 33]\n"
     ]
    }
   ],
   "source": [
    "MHP_cp = ChangePointDetector(phi_list, B=200, m=100, c=2, alpha=0.2)\n",
    "MHP_cp.binary_segmentation()\n",
    "print(\n",
    "    f\"Detected (Fréchet): {MHP_cp.cp_detected}\"\n",
    ")"
   ]
  },
  {
   "cell_type": "code",
   "execution_count": 164,
   "metadata": {
    "execution": {
     "iopub.execute_input": "2023-04-15T16:43:04.977637Z",
     "iopub.status.busy": "2023-04-15T16:43:04.976584Z",
     "iopub.status.idle": "2023-04-15T16:43:04.990215Z",
     "shell.execute_reply": "2023-04-15T16:43:04.988597Z",
     "shell.execute_reply.started": "2023-04-15T16:43:04.977586Z"
    },
    "jupyter": {
     "source_hidden": true
    }
   },
   "outputs": [],
   "source": [
    "from pandas import Timestamp\n",
    "list_start_of_week = \\\n",
    "[Timestamp('2022-03-01 00:00:00'),\n",
    " Timestamp('2022-03-07 00:00:00'),\n",
    " Timestamp('2022-03-14 00:00:00'),\n",
    " Timestamp('2022-03-21 00:00:00'),\n",
    " Timestamp('2022-03-28 00:00:00'),\n",
    " Timestamp('2022-04-04 00:00:00'),\n",
    " Timestamp('2022-04-11 00:00:00'),\n",
    " Timestamp('2022-04-18 00:00:00'),\n",
    " Timestamp('2022-04-25 00:00:00'),\n",
    " Timestamp('2022-05-02 00:00:00'),\n",
    " Timestamp('2022-05-09 00:00:00'),\n",
    " Timestamp('2022-05-16 00:00:00'),\n",
    " Timestamp('2022-05-23 00:00:00'),\n",
    " Timestamp('2022-05-30 00:00:00'),\n",
    " Timestamp('2022-06-06 00:00:00'),\n",
    " Timestamp('2022-06-13 00:00:00'),\n",
    " Timestamp('2022-06-20 00:00:00'),\n",
    " Timestamp('2022-06-27 00:00:00'),\n",
    " Timestamp('2022-07-04 00:00:00'),\n",
    " Timestamp('2022-07-11 00:00:00'),\n",
    " Timestamp('2022-07-18 00:00:00'),\n",
    " Timestamp('2022-07-25 00:00:00'),\n",
    " Timestamp('2022-08-01 00:00:00'),\n",
    " Timestamp('2022-08-08 00:00:00'),\n",
    " Timestamp('2022-08-15 00:00:00'),\n",
    " Timestamp('2022-08-22 00:00:00'),\n",
    " Timestamp('2022-08-29 00:00:00'),\n",
    " Timestamp('2022-09-05 00:00:00'),\n",
    " Timestamp('2022-09-12 00:00:00'),\n",
    " Timestamp('2022-09-19 00:00:00'),\n",
    " Timestamp('2022-09-26 00:00:00'),\n",
    " Timestamp('2022-10-03 00:00:00'),\n",
    " Timestamp('2022-10-10 00:00:00'),\n",
    " Timestamp('2022-10-17 00:00:00'),\n",
    " Timestamp('2022-10-24 00:00:00'),\n",
    " Timestamp('2022-10-31 00:00:00'),\n",
    " Timestamp('2022-11-07 00:00:00'),\n",
    " Timestamp('2022-11-14 00:00:00'),\n",
    " Timestamp('2022-11-21 00:00:00'),\n",
    " Timestamp('2022-11-28 00:00:00'),\n",
    " Timestamp('2022-12-05 00:00:00'),\n",
    " Timestamp('2022-12-12 00:00:00'),\n",
    " Timestamp('2022-12-19 00:00:00'),\n",
    " Timestamp('2022-12-26 00:00:00'),\n",
    " Timestamp('2023-01-02 00:00:00'),\n",
    " Timestamp('2023-01-09 00:00:00'),\n",
    " Timestamp('2023-01-16 00:00:00'),\n",
    " Timestamp('2023-01-23 00:00:00'),\n",
    " Timestamp('2023-01-30 00:00:00'),\n",
    " Timestamp('2023-02-06 00:00:00'),\n",
    " Timestamp('2023-02-13 00:00:00'),\n",
    " Timestamp('2023-02-20 00:00:00'),\n",
    " Timestamp('2023-02-27 00:00:00'),\n",
    " Timestamp('2023-03-06 00:00:00'),\n",
    " Timestamp('2023-03-13 00:00:00'),\n",
    " Timestamp('2023-03-20 00:00:00')]"
   ]
  },
  {
   "cell_type": "code",
   "execution_count": 169,
   "metadata": {
    "execution": {
     "iopub.execute_input": "2023-04-15T16:47:51.648917Z",
     "iopub.status.busy": "2023-04-15T16:47:51.648410Z",
     "iopub.status.idle": "2023-04-15T16:47:52.292398Z",
     "shell.execute_reply": "2023-04-15T16:47:52.290948Z",
     "shell.execute_reply.started": "2023-04-15T16:47:51.648874Z"
    }
   },
   "outputs": [
    {
     "name": "stderr",
     "output_type": "stream",
     "text": [
      "/opt/conda/lib/python3.7/site-packages/ipykernel_launcher.py:17: UserWarning: FixedFormatter should only be used together with FixedLocator\n",
      "  app.launch_new_instance()\n"
     ]
    },
    {
     "data": {
      "image/png": "[encoded data removed]",
      "text/plain": [
       "<Figure size 700x400 with 2 Axes>"
      ]
     },
     "metadata": {},
     "output_type": "display_data"
    }
   ],
   "source": [
    "fig, ax = plt.subplots(figsize=(7, 4))\n",
    "\n",
    "for i, test_stats in enumerate(MHP_cp.test_stats):\n",
    "    seq, since, until = test_stats\n",
    "    ax.plot(np.arange(since, until), seq, ls=\"-\", color='b', label='Fréchet') #marker='*', markevery=5,\n",
    "\n",
    "ymin, ymax = ax.get_ylim() \n",
    "for changepoint in MHP_cp.cp_detected:\n",
    "    ax.vlines(x=changepoint, ymin=ymin, ymax=ymax, color='b', ls=\":\", lw=2, alpha=0.8)\n",
    "\n",
    "ax1 = ax.twinx()\n",
    "ax1.plot(np.array(events_count_week[:-1])+np.array(events_count_week[1:]), color='g')\n",
    "ax.set_xlim([0, len(phi_list)+1])\n",
    "ax.set_ylabel('Fréchet ' + r\"$nT_n(u)$\", color='b', fontsize=16)\n",
    "ax1.set_ylabel('Number of Events', color='g', fontsize=16)\n",
    "labels = [list_start_of_week[i] for i in range(0, 60, 10)] # [list(events.keys())[i] for i in range(0, 60, 10)]\n",
    "ax.set_xticklabels(labels, rotation=30)\n",
    "\n",
    "plt.tight_layout()\n",
    "plt.savefig('frechet.png', dpi=200)"
   ]
  }
 ],
 "metadata": {
  "kernelspec": {
   "display_name": "Python 3 (ipykernel)",
   "language": "python",
   "name": "python3"
  },
  "language_info": {
   "codemirror_mode": {
    "name": "ipython",
    "version": 3
   },
   "file_extension": ".py",
   "mimetype": "text/x-python",
   "name": "python",
   "nbconvert_exporter": "python",
   "pygments_lexer": "ipython3",
   "version": "3.9.13"
  }
 },
 "nbformat": 4,
 "nbformat_minor": 4
}
